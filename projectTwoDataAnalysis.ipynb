{
 "cells": [
  {
   "cell_type": "markdown",
   "id": "86e4042a",
   "metadata": {},
   "source": [
    "# Anthony Marsilio\n",
    "## Data Science Programming\n",
    "## Project Two: Data Analysis with Python\n",
    "## Tuesday, March 28th, 2023"
   ]
  },
  {
   "cell_type": "code",
   "execution_count": 1,
   "id": "993af014",
   "metadata": {},
   "outputs": [],
   "source": [
    "## importing dependencies\n",
    "import pandas as pd\n",
    "import matplotlib.pyplot as plt"
   ]
  },
  {
   "cell_type": "code",
   "execution_count": 2,
   "id": "372351d8",
   "metadata": {},
   "outputs": [],
   "source": [
    "## reading in the necessary dataframe\n",
    "dataFile = 'compLitSurveyCleaned.csv'\n",
    "compLit = pd.read_csv(dataFile)"
   ]
  },
  {
   "cell_type": "markdown",
   "id": "70569cba",
   "metadata": {},
   "source": [
    "## here, I perform exploratory analysis:"
   ]
  },
  {
   "cell_type": "code",
   "execution_count": 5,
   "id": "76f79c71",
   "metadata": {
    "scrolled": true
   },
   "outputs": [
    {
     "data": {
      "text/html": [
       "<div>\n",
       "<style scoped>\n",
       "    .dataframe tbody tr th:only-of-type {\n",
       "        vertical-align: middle;\n",
       "    }\n",
       "\n",
       "    .dataframe tbody tr th {\n",
       "        vertical-align: top;\n",
       "    }\n",
       "\n",
       "    .dataframe thead th {\n",
       "        text-align: right;\n",
       "    }\n",
       "</style>\n",
       "<table border=\"1\" class=\"dataframe\">\n",
       "  <thead>\n",
       "    <tr style=\"text-align: right;\">\n",
       "      <th></th>\n",
       "      <th>Unnamed: 0</th>\n",
       "      <th>course</th>\n",
       "      <th>website_influenced</th>\n",
       "      <th>counselor_influenced</th>\n",
       "      <th>major</th>\n",
       "      <th>gender</th>\n",
       "      <th>race</th>\n",
       "      <th>age</th>\n",
       "    </tr>\n",
       "  </thead>\n",
       "  <tbody>\n",
       "    <tr>\n",
       "      <th>0</th>\n",
       "      <td>0</td>\n",
       "      <td>CMP101 Computer Lit</td>\n",
       "      <td>0</td>\n",
       "      <td>1</td>\n",
       "      <td>Early Childhood Education</td>\n",
       "      <td>W</td>\n",
       "      <td>Hispanic or Latino</td>\n",
       "      <td>18 and younger</td>\n",
       "    </tr>\n",
       "    <tr>\n",
       "      <th>1</th>\n",
       "      <td>1</td>\n",
       "      <td>CMP135 Concept and App</td>\n",
       "      <td>0</td>\n",
       "      <td>0</td>\n",
       "      <td>Public Health</td>\n",
       "      <td>W</td>\n",
       "      <td>White/Caucasian</td>\n",
       "      <td>21-24</td>\n",
       "    </tr>\n",
       "    <tr>\n",
       "      <th>2</th>\n",
       "      <td>2</td>\n",
       "      <td>CMP135 Concept and App</td>\n",
       "      <td>0</td>\n",
       "      <td>1</td>\n",
       "      <td>Radiography</td>\n",
       "      <td>W</td>\n",
       "      <td>White/Caucasian</td>\n",
       "      <td>19-20</td>\n",
       "    </tr>\n",
       "    <tr>\n",
       "      <th>3</th>\n",
       "      <td>3</td>\n",
       "      <td>CMP135 Concept and App</td>\n",
       "      <td>0</td>\n",
       "      <td>0</td>\n",
       "      <td>Exercise Science</td>\n",
       "      <td>M</td>\n",
       "      <td>White/Caucasian</td>\n",
       "      <td>19-20</td>\n",
       "    </tr>\n",
       "    <tr>\n",
       "      <th>4</th>\n",
       "      <td>4</td>\n",
       "      <td>CMP101 Computer Lit</td>\n",
       "      <td>0</td>\n",
       "      <td>0</td>\n",
       "      <td>Liberal Arts</td>\n",
       "      <td>M</td>\n",
       "      <td>White/Caucasian</td>\n",
       "      <td>19-20</td>\n",
       "    </tr>\n",
       "  </tbody>\n",
       "</table>\n",
       "</div>"
      ],
      "text/plain": [
       "   Unnamed: 0                  course  website_influenced  \\\n",
       "0           0     CMP101 Computer Lit                   0   \n",
       "1           1  CMP135 Concept and App                   0   \n",
       "2           2  CMP135 Concept and App                   0   \n",
       "3           3  CMP135 Concept and App                   0   \n",
       "4           4     CMP101 Computer Lit                   0   \n",
       "\n",
       "   counselor_influenced                      major gender                race  \\\n",
       "0                     1  Early Childhood Education      W  Hispanic or Latino   \n",
       "1                     0              Public Health      W     White/Caucasian   \n",
       "2                     1                Radiography      W     White/Caucasian   \n",
       "3                     0           Exercise Science      M     White/Caucasian   \n",
       "4                     0               Liberal Arts      M     White/Caucasian   \n",
       "\n",
       "              age  \n",
       "0  18 and younger  \n",
       "1           21-24  \n",
       "2           19-20  \n",
       "3           19-20  \n",
       "4           19-20  "
      ]
     },
     "execution_count": 5,
     "metadata": {},
     "output_type": "execute_result"
    }
   ],
   "source": [
    "compLit.head()"
   ]
  },
  {
   "cell_type": "markdown",
   "id": "a8fc64f3",
   "metadata": {},
   "source": [
    "## \n",
    "## My initial question is about how students of different races learn about County College of Morris. This insight will suggest ways to improve enrollment of target students (by putting emphasis on the marketing that impacts said group).\n",
    "\n",
    "##  \n",
    "\n",
    "## Firstly here, we look at how students of various races differ in their response to Website Marketing and Student Counselor Marketing. We look at groups of students whom we may wish to target for enrollment labeled \"White/Caucasian\" and \"Hispanic or Latino\":\n",
    "## "
   ]
  },
  {
   "cell_type": "code",
   "execution_count": 6,
   "id": "092e5062",
   "metadata": {},
   "outputs": [
    {
     "data": {
      "text/plain": [
       "Unnamed: 0              40\n",
       "course                  40\n",
       "website_influenced      40\n",
       "counselor_influenced    40\n",
       "major                   40\n",
       "gender                  39\n",
       "race                    40\n",
       "age                     40\n",
       "dtype: int64"
      ]
     },
     "execution_count": 6,
     "metadata": {},
     "output_type": "execute_result"
    }
   ],
   "source": [
    "## here, look at the count of those not influenced by the website and also not influenced by the counselor\n",
    "compLit[(compLit.website_influenced == 0) & (compLit.counselor_influenced == 0)].count()"
   ]
  },
  {
   "cell_type": "code",
   "execution_count": 7,
   "id": "ef40809e",
   "metadata": {},
   "outputs": [
    {
     "data": {
      "text/plain": [
       "Unnamed: 0              21\n",
       "course                  21\n",
       "website_influenced      21\n",
       "counselor_influenced    21\n",
       "major                   21\n",
       "gender                  21\n",
       "race                    21\n",
       "age                     21\n",
       "dtype: int64"
      ]
     },
     "execution_count": 7,
     "metadata": {},
     "output_type": "execute_result"
    }
   ],
   "source": [
    "## here, hispanic & counselor influenced\n",
    "compLit[(compLit.race == 'Hispanic or Latino') & (compLit.counselor_influenced == 1)].count()"
   ]
  },
  {
   "cell_type": "code",
   "execution_count": 8,
   "id": "127fa922",
   "metadata": {},
   "outputs": [
    {
     "data": {
      "text/plain": [
       "Unnamed: 0              11\n",
       "course                  11\n",
       "website_influenced      11\n",
       "counselor_influenced    11\n",
       "major                   11\n",
       "gender                  11\n",
       "race                    11\n",
       "age                     11\n",
       "dtype: int64"
      ]
     },
     "execution_count": 8,
     "metadata": {},
     "output_type": "execute_result"
    }
   ],
   "source": [
    "## here, hispanic & website influenced\n",
    "compLit[(compLit.race == 'Hispanic or Latino') & (compLit.website_influenced == 1)].count()"
   ]
  },
  {
   "cell_type": "code",
   "execution_count": 9,
   "id": "355c4231",
   "metadata": {},
   "outputs": [
    {
     "data": {
      "text/plain": [
       "Unnamed: 0              33\n",
       "course                  33\n",
       "website_influenced      33\n",
       "counselor_influenced    33\n",
       "major                   33\n",
       "gender                  33\n",
       "race                    33\n",
       "age                     33\n",
       "dtype: int64"
      ]
     },
     "execution_count": 9,
     "metadata": {},
     "output_type": "execute_result"
    }
   ],
   "source": [
    "## here, white & counselor influenced\n",
    "compLit[(compLit.race == 'White/Caucasian') & (compLit.counselor_influenced == 1)].count()"
   ]
  },
  {
   "cell_type": "markdown",
   "id": "7c6d3a78",
   "metadata": {},
   "source": [
    "## now, here we are moving into some analysis on the data and working towards producing our visuals (bar charts):\n",
    "\n",
    "## \n",
    "\n"
   ]
  },
  {
   "cell_type": "code",
   "execution_count": 10,
   "id": "7e122d00",
   "metadata": {},
   "outputs": [],
   "source": [
    "## here, copying filtered dataframes with conditional criteria\n",
    "whiteAndCounselor = compLit[(compLit.race == 'White/Caucasian') & (compLit.counselor_influenced == 1)]\n",
    "white = compLit[(compLit.race == \"White/Caucasian\")]\n",
    "hispanicAndCounselor = compLit[(compLit.race == 'Hispanic or Latino') & (compLit.counselor_influenced == 1)]\n",
    "hispanic = compLit[(compLit.race == \"Hispanic or Latino\")]\n",
    "\n",
    "## here, copying filtered dataframes with conditional criteria\n",
    "whiteAndWebsite = compLit[(compLit.race == 'White/Caucasian') & (compLit.website_influenced == 1)]\n",
    "hispanicAndWebsite = compLit[(compLit.race == 'Hispanic or Latino') & (compLit.website_influenced == 1)]"
   ]
  },
  {
   "cell_type": "code",
   "execution_count": 11,
   "id": "353c8ba9",
   "metadata": {},
   "outputs": [],
   "source": [
    "## here, the proportion of white vs hispanic people who took influence from a counselor\n",
    "whiteCounsPer = whiteAndCounselor.shape[0] / white.shape[0]\n",
    "hispanicCounsPer = hispanicAndCounselor.shape[0] / hispanic.shape[0]\n",
    "\n",
    "## here, the proportion of white vs hispanic people who took influence from a website\n",
    "whiteWebPer = whiteAndWebsite.shape[0] / white.shape[0]\n",
    "hispanicWebPer = hispanicAndWebsite.shape[0] / hispanic.shape[0]\n"
   ]
  },
  {
   "cell_type": "markdown",
   "id": "f83a6c58",
   "metadata": {},
   "source": [
    "## \n",
    "\n",
    "## the following graph exhibits the variation between effectiveness of \"guidance counselor\" influence on white students versus hispanic students. Which, apparently is very little. This leads to the insight that we ought not focus on guidance counselors if approaching with the sole intention of boosting hispanic or white enrollment.\n",
    "\n",
    "## "
   ]
  },
  {
   "cell_type": "code",
   "execution_count": 12,
   "id": "3700bc28",
   "metadata": {
    "scrolled": false
   },
   "outputs": [
    {
     "data": {
      "text/plain": [
       "Text(0.5, 1.0, 'Disparity in effectiveness of\\nguidance counselor suggestions to attend CCM')"
      ]
     },
     "execution_count": 12,
     "metadata": {},
     "output_type": "execute_result"
    },
    {
     "data": {
      "image/png": "[encoded data removed]",
      "text/plain": [
       "<Figure size 640x480 with 1 Axes>"
      ]
     },
     "metadata": {},
     "output_type": "display_data"
    }
   ],
   "source": [
    "labels1 = ('White','Hispanic')\n",
    "index = (1,2)\n",
    "sizes = (whiteCounsPer, hispanicCounsPer)\n",
    "plt.bar(index, sizes, color = \"#6c3376\",tick_label = labels1 )\n",
    "plt.ylabel(\"Percentage of Respective Population\")\n",
    "plt.xlabel(\"Racial Demographic\")\n",
    "plt.title(\"Disparity in effectiveness of\\n\"\n",
    "          \"guidance counselor suggestions to attend CCM\")"
   ]
  },
  {
   "cell_type": "markdown",
   "id": "9ec7cffb",
   "metadata": {},
   "source": [
    "## \n",
    "\n",
    "## the following graph exhibits the differential between effectiveness of \"website\" influence on white students versus hispanic students. Which, although small, could be a way to target the hispanic race This leads to the insight that hispanic students responded to CCM'c website presence in a more significant way, compared to white students.\n",
    "\n",
    "## "
   ]
  },
  {
   "cell_type": "code",
   "execution_count": 13,
   "id": "f263dd0f",
   "metadata": {},
   "outputs": [
    {
     "data": {
      "text/plain": [
       "Text(0.5, 1.0, 'Disparity in effectiveness of\\nwebsite suggestions to attend CCM')"
      ]
     },
     "execution_count": 13,
     "metadata": {},
     "output_type": "execute_result"
    },
    {
     "data": {
      "image/png": "[encoded data removed]",
      "text/plain": [
       "<Figure size 640x480 with 1 Axes>"
      ]
     },
     "metadata": {},
     "output_type": "display_data"
    }
   ],
   "source": [
    "labels1 = ('White','Hispanic')\n",
    "index = (1,2)\n",
    "sizes = (whiteWebPer, hispanicWebPer)\n",
    "plt.bar(index, sizes, color = \"#6c3376\",tick_label = labels1 )\n",
    "plt.ylabel(\"Proportion of Respective Population\")\n",
    "plt.xlabel(\"Racial Demographic\")\n",
    "plt.title(\"Disparity in effectiveness of\\n\"\n",
    "          \"website suggestions to attend CCM\")"
   ]
  },
  {
   "cell_type": "markdown",
   "id": "26b6c590",
   "metadata": {},
   "source": [
    "##  \n",
    "\n",
    "## Now, we look at how students of various majors differ in their response to Website Marketing and Student Counselor Marketing. We look at a groups of students whom we may wish to target for enrollment labeled Nursing, Criminal Justice, and Liberal Arts majors:\n",
    "## "
   ]
  },
  {
   "cell_type": "code",
   "execution_count": 14,
   "id": "952d8070",
   "metadata": {},
   "outputs": [
    {
     "data": {
      "text/plain": [
       "Unnamed: 0              6\n",
       "course                  6\n",
       "website_influenced      6\n",
       "counselor_influenced    6\n",
       "major                   6\n",
       "gender                  6\n",
       "race                    6\n",
       "age                     6\n",
       "dtype: int64"
      ]
     },
     "execution_count": 14,
     "metadata": {},
     "output_type": "execute_result"
    }
   ],
   "source": [
    "compLit[(compLit.major == \"Nursing\")&(compLit.website_influenced == 1)].count()"
   ]
  },
  {
   "cell_type": "code",
   "execution_count": 15,
   "id": "a7c0b32a",
   "metadata": {},
   "outputs": [
    {
     "data": {
      "text/plain": [
       "Unnamed: 0              7\n",
       "course                  7\n",
       "website_influenced      7\n",
       "counselor_influenced    7\n",
       "major                   7\n",
       "gender                  7\n",
       "race                    7\n",
       "age                     7\n",
       "dtype: int64"
      ]
     },
     "execution_count": 15,
     "metadata": {},
     "output_type": "execute_result"
    }
   ],
   "source": [
    "compLit[(compLit.major == \"Nursing\")&(compLit.counselor_influenced == 1)].count()"
   ]
  },
  {
   "cell_type": "code",
   "execution_count": 16,
   "id": "431f9581",
   "metadata": {},
   "outputs": [
    {
     "data": {
      "text/plain": [
       "Unnamed: 0              10\n",
       "course                  10\n",
       "website_influenced      10\n",
       "counselor_influenced    10\n",
       "major                   10\n",
       "gender                  10\n",
       "race                    10\n",
       "age                     10\n",
       "dtype: int64"
      ]
     },
     "execution_count": 16,
     "metadata": {},
     "output_type": "execute_result"
    }
   ],
   "source": [
    "compLit[(compLit.website_influenced == 1)&(compLit.major == \"Criminal Justice\")].count()"
   ]
  },
  {
   "cell_type": "code",
   "execution_count": 17,
   "id": "907798b9",
   "metadata": {},
   "outputs": [
    {
     "data": {
      "text/plain": [
       "Unnamed: 0              16\n",
       "course                  16\n",
       "website_influenced      16\n",
       "counselor_influenced    16\n",
       "major                   16\n",
       "gender                  16\n",
       "race                    16\n",
       "age                     16\n",
       "dtype: int64"
      ]
     },
     "execution_count": 17,
     "metadata": {},
     "output_type": "execute_result"
    }
   ],
   "source": [
    "compLit[(compLit.counselor_influenced == 1)&(compLit.major == \"Criminal Justice\")].count()"
   ]
  },
  {
   "cell_type": "code",
   "execution_count": 18,
   "id": "0c92cfdf",
   "metadata": {},
   "outputs": [
    {
     "data": {
      "text/plain": [
       "Unnamed: 0              5\n",
       "course                  5\n",
       "website_influenced      5\n",
       "counselor_influenced    5\n",
       "major                   5\n",
       "gender                  5\n",
       "race                    5\n",
       "age                     5\n",
       "dtype: int64"
      ]
     },
     "execution_count": 18,
     "metadata": {},
     "output_type": "execute_result"
    }
   ],
   "source": [
    "compLit[(compLit.major == \"Liberal Arts\")&(compLit.website_influenced == 1)].count()"
   ]
  },
  {
   "cell_type": "code",
   "execution_count": 19,
   "id": "63c6bf6a",
   "metadata": {
    "scrolled": true
   },
   "outputs": [
    {
     "data": {
      "text/plain": [
       "Unnamed: 0              12\n",
       "course                  12\n",
       "website_influenced      12\n",
       "counselor_influenced    12\n",
       "major                   12\n",
       "gender                  11\n",
       "race                    12\n",
       "age                     12\n",
       "dtype: int64"
      ]
     },
     "execution_count": 19,
     "metadata": {},
     "output_type": "execute_result"
    }
   ],
   "source": [
    "compLit[(compLit.major == \"Liberal Arts\")&(compLit.counselor_influenced == 1)].count()"
   ]
  },
  {
   "cell_type": "markdown",
   "id": "f2912457",
   "metadata": {},
   "source": [
    "## now, here we are moving into some analysis on the data and working towards producing our visuals (bar charts):\n",
    "\n",
    "## \n"
   ]
  },
  {
   "cell_type": "code",
   "execution_count": 20,
   "id": "b24b2eea",
   "metadata": {},
   "outputs": [],
   "source": [
    "## here, copying filtered dataframes of nursing, criminal justice, and liberal arts majors\n",
    "nursing = compLit[(compLit.major == \"Nursing\")]\n",
    "justice = compLit[(compLit.major == \"Criminal Justice\")]\n",
    "liberal = compLit[(compLit.major == \"Liberal Arts\")]"
   ]
  },
  {
   "cell_type": "code",
   "execution_count": 21,
   "id": "58f8840d",
   "metadata": {},
   "outputs": [],
   "source": [
    "## here, copying filtered dataframes with conditional criteria of nursing, criminal justice, and liberal arts majors\n",
    "nursingAndCounselor = compLit[(compLit.major == \"Nursing\")&(compLit.counselor_influenced == 1)]\n",
    "justiceAndCounselor = compLit[(compLit.major == \"Criminal Justice\")&(compLit.counselor_influenced == 1)]\n",
    "liberalAndCounselor = compLit[(compLit.major == \"Liberal Arts\")&(compLit.counselor_influenced == 1)]"
   ]
  },
  {
   "cell_type": "code",
   "execution_count": 22,
   "id": "f9d2a8a6",
   "metadata": {},
   "outputs": [],
   "source": [
    "## here, the proportion of nursing, criminal justice, and liberal majoring people who took influence from a counselor\n",
    "nursingCounsPer = nursingAndCounselor.shape[0] / nursing.shape[0]\n",
    "justiceCounsPer = justiceAndCounselor.shape[0] / justice.shape[0]\n",
    "liberalCounsPer = liberalAndCounselor.shape[0] / liberal.shape[0]"
   ]
  },
  {
   "cell_type": "markdown",
   "id": "e5f9a599",
   "metadata": {},
   "source": [
    "## \n",
    "\n",
    "## the following graph exhibits the differential between effectiveness of \"guidance counselor\" influence on nursing, criminal justice, and liberal arts majors. These majors, by the way, represent the majority of all respondents to this survey.\n",
    "\n",
    "## The variation in these groups' response to counselor suggestions means that trying to recruit computer science students through guidance counselor engagement may not have much of an effect on recruiting specifically from the nursing, criminal justice, or liberal arts majors.\n",
    "\n",
    "## "
   ]
  },
  {
   "cell_type": "code",
   "execution_count": 24,
   "id": "d184aab9",
   "metadata": {
    "scrolled": false
   },
   "outputs": [
    {
     "data": {
      "text/plain": [
       "Text(0.5, 1.0, 'Disparity in effectiveness of\\ncounselor suggestions to attend CCM by Major')"
      ]
     },
     "execution_count": 24,
     "metadata": {},
     "output_type": "execute_result"
    },
    {
     "data": {
      "image/png": "[encoded data removed]",
      "text/plain": [
       "<Figure size 640x480 with 1 Axes>"
      ]
     },
     "metadata": {},
     "output_type": "display_data"
    }
   ],
   "source": [
    "labels1 = ('Nursing','Criminal Justice', 'Liberal Arts')\n",
    "index = (1,2,3)\n",
    "sizes = (nursingCounsPer, justiceCounsPer, liberalCounsPer)\n",
    "plt.bar(index, sizes, color = \"#6c3739\",tick_label = labels1 )\n",
    "plt.ylabel(\"Proportion of Respective Major\")\n",
    "plt.xlabel(\"Major\")\n",
    "plt.title(\"Disparity in effectiveness of\\n\"\n",
    "          \"counselor suggestions to attend CCM by Major\")"
   ]
  },
  {
   "cell_type": "markdown",
   "id": "2c9cda39",
   "metadata": {},
   "source": [
    "## \n",
    "\n",
    "## here, there is some more data analysis, preparing objects for visual modeling:\n",
    "\n",
    "## "
   ]
  },
  {
   "cell_type": "code",
   "execution_count": 25,
   "id": "04c6a483",
   "metadata": {},
   "outputs": [],
   "source": [
    "## here, copying filtered dataframes with conditional criteria of nursing, criminal justice, and liberal arts majors\n",
    "nursingAndWebsite = compLit[(compLit.major == \"Nursing\")&(compLit.website_influenced == 1)]\n",
    "justiceAndWebsite = compLit[(compLit.major == \"Criminal Justice\")&(compLit.website_influenced == 1)]\n",
    "liberalAndWebsite = compLit[(compLit.major == \"Liberal Arts\")&(compLit.website_influenced == 1)]"
   ]
  },
  {
   "cell_type": "code",
   "execution_count": 26,
   "id": "b8730477",
   "metadata": {},
   "outputs": [],
   "source": [
    "## here, the proportion of nursing, criminal justice, and liberal majoring people who took influence from a counselor\n",
    "nursingWebPer = nursingAndWebsite.shape[0] / nursing.shape[0]\n",
    "justiceWebPer = justiceAndWebsite.shape[0] / justice.shape[0]\n",
    "liberalWebPer = liberalAndWebsite.shape[0] / liberal.shape[0]"
   ]
  },
  {
   "cell_type": "markdown",
   "id": "83567ff0",
   "metadata": {},
   "source": [
    "## \n",
    "\n",
    "## the following graph exhibits the differential between effectiveness of \"website\" influence on nursing, criminal justice, and liberal arts majors. These majors, by the way, represent the majority of all respondents to this survey.\n",
    "\n",
    "## The variation in these groups' response to website suggestions means that trying to recruit computer science students through website engagement has more of an effect on nursing students than these other groups, and could be an effective outlet for boosting that group's enrollment.\n",
    "\n",
    "## "
   ]
  },
  {
   "cell_type": "code",
   "execution_count": 27,
   "id": "a07496bf",
   "metadata": {},
   "outputs": [
    {
     "data": {
      "text/plain": [
       "Text(0.5, 1.0, 'Disparity in effectiveness of\\nwebsite suggestions to attend CCM by Major')"
      ]
     },
     "execution_count": 27,
     "metadata": {},
     "output_type": "execute_result"
    },
    {
     "data": {
      "image/png": "[encoded data removed]",
      "text/plain": [
       "<Figure size 640x480 with 1 Axes>"
      ]
     },
     "metadata": {},
     "output_type": "display_data"
    }
   ],
   "source": [
    "labels1 = ('Nursing','Criminal Justice', 'Liberal Arts')\n",
    "index = (1,2,3)\n",
    "sizes = (nursingWebPer, justiceWebPer, liberalWebPer)\n",
    "plt.bar(index, sizes, color = \"#6c3739\",tick_label = labels1 )\n",
    "plt.ylabel(\"Proportion of Respective Major\")\n",
    "plt.xlabel(\"Major\")\n",
    "plt.title(\"Disparity in effectiveness of\\n\"\n",
    "          \"website suggestions to attend CCM by Major\")"
   ]
  }
 ],
 "metadata": {
  "kernelspec": {
   "display_name": "Python 3 (ipykernel)",
   "language": "python",
   "name": "python3"
  },
  "language_info": {
   "codemirror_mode": {
    "name": "ipython",
    "version": 3
   },
   "file_extension": ".py",
   "mimetype": "text/x-python",
   "name": "python",
   "nbconvert_exporter": "python",
   "pygments_lexer": "ipython3",
   "version": "3.9.13"
  }
 },
 "nbformat": 4,
 "nbformat_minor": 5
}
